{
 "cells": [
  {
   "cell_type": "code",
   "execution_count": 2,
   "id": "eab36019",
   "metadata": {},
   "outputs": [],
   "source": [
    "import nltk\n",
    "from nltk.corpus import words, stopwords\n",
    "from nltk.metrics import edit_distance"
   ]
  },
  {
   "cell_type": "code",
   "execution_count": 3,
   "id": "5319cce7",
   "metadata": {},
   "outputs": [
    {
     "name": "stderr",
     "output_type": "stream",
     "text": [
      "[nltk_data] Downloading package words to\n",
      "[nltk_data]     C:\\Users\\ADMIN\\AppData\\Roaming\\nltk_data...\n",
      "[nltk_data]   Package words is already up-to-date!\n",
      "[nltk_data] Downloading package stopwords to\n",
      "[nltk_data]     C:\\Users\\ADMIN\\AppData\\Roaming\\nltk_data...\n",
      "[nltk_data]   Package stopwords is already up-to-date!\n"
     ]
    },
    {
     "data": {
      "text/plain": [
       "True"
      ]
     },
     "execution_count": 3,
     "metadata": {},
     "output_type": "execute_result"
    }
   ],
   "source": [
    "nltk.download('words')\n",
    "nltk.download('stopwords')"
   ]
  },
  {
   "cell_type": "code",
   "execution_count": 6,
   "id": "cff0b780",
   "metadata": {},
   "outputs": [],
   "source": [
    "def correct_spelling(word):\n",
    "    \"\"\"\n",
    "    Correct the spelling of a word based on the NLTK words corpus.\n",
    "    \"\"\"\n",
    "    valid_words = set(words.words())\n",
    "    \n",
    "    if word.lower() in valid_words or word in stopwords.words('english'):\n",
    "        return word\n",
    "    \n",
    "    # Find the closest word based on edit distance\n",
    "    suggestions = [(w, edit_distance(word, w)) for w in valid_words]\n",
    "    closest_word = min(suggestions, key=lambda x: x[1])[0]\n",
    "    \n",
    "    return closest_word"
   ]
  },
  {
   "cell_type": "code",
   "execution_count": 7,
   "id": "16876ea2",
   "metadata": {},
   "outputs": [],
   "source": [
    "def spell_checker(sentence):\n",
    "    \"\"\"\n",
    "    Correct spelling in a given sentence.\n",
    "    \"\"\"\n",
    "    # Tokenize the sentence into words\n",
    "    words_in_sentence = nltk.word_tokenize(sentence)\n",
    "    \n",
    "    # Correct each word in the sentence\n",
    "    corrected_sentence = [correct_spelling(word) for word in words_in_sentence]\n",
    "    \n",
    "    # Join the corrected words to form the final sentence\n",
    "    final_sentence = ' '.join(corrected_sentence)\n",
    "    \n",
    "    return final_sentence"
   ]
  },
  {
   "cell_type": "code",
   "execution_count": 9,
   "id": "f7179ee1",
   "metadata": {},
   "outputs": [
    {
     "name": "stdout",
     "output_type": "stream",
     "text": [
      "Original Sentence: Teh syk is bleu.\n",
      "Corrected Sentence: eh sye is bleb K\n"
     ]
    }
   ],
   "source": [
    "# Example usage\n",
    "input_sentence = \"Teh syk is bleu.\"\n",
    "corrected_sentence = spell_checker(input_sentence)\n",
    "print(f\"Original Sentence: {input_sentence}\")\n",
    "print(f\"Corrected Sentence: {corrected_sentence}\")"
   ]
  },
  {
   "cell_type": "code",
   "execution_count": null,
   "id": "e4246e1b",
   "metadata": {},
   "outputs": [],
   "source": []
  },
  {
   "cell_type": "code",
   "execution_count": null,
   "id": "91766390",
   "metadata": {},
   "outputs": [],
   "source": []
  }
 ],
 "metadata": {
  "kernelspec": {
   "display_name": "Python 3 (ipykernel)",
   "language": "python",
   "name": "python3"
  },
  "language_info": {
   "codemirror_mode": {
    "name": "ipython",
    "version": 3
   },
   "file_extension": ".py",
   "mimetype": "text/x-python",
   "name": "python",
   "nbconvert_exporter": "python",
   "pygments_lexer": "ipython3",
   "version": "3.11.4"
  }
 },
 "nbformat": 4,
 "nbformat_minor": 5
}
