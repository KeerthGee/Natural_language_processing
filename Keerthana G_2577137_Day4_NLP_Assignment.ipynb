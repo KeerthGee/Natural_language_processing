{
 "cells": [
  {
   "cell_type": "code",
   "execution_count": 1,
   "id": "afd13ea7",
   "metadata": {},
   "outputs": [],
   "source": [
    "import nltk\n",
    "from nltk.corpus import words\n",
    "from nltk.tokenize import word_tokenize\n",
    "from nltk.probability import FreqDist"
   ]
  },
  {
   "cell_type": "code",
   "execution_count": 2,
   "id": "59c34fb8",
   "metadata": {},
   "outputs": [
    {
     "name": "stderr",
     "output_type": "stream",
     "text": [
      "[nltk_data] Downloading package punkt to\n",
      "[nltk_data]     C:\\Users\\ADMIN\\AppData\\Roaming\\nltk_data...\n",
      "[nltk_data]   Package punkt is already up-to-date!\n",
      "[nltk_data] Downloading package words to\n",
      "[nltk_data]     C:\\Users\\ADMIN\\AppData\\Roaming\\nltk_data...\n",
      "[nltk_data]   Unzipping corpora\\words.zip.\n"
     ]
    },
    {
     "data": {
      "text/plain": [
       "True"
      ]
     },
     "execution_count": 2,
     "metadata": {},
     "output_type": "execute_result"
    }
   ],
   "source": [
    "nltk.download('punkt')\n",
    "nltk.download('words')"
   ]
  },
  {
   "cell_type": "code",
   "execution_count": 3,
   "id": "c468c14b",
   "metadata": {},
   "outputs": [],
   "source": [
    "def create_word_frequency_model():\n",
    "    # Create a frequency distribution of words from NLTK's words corpus\n",
    "    english_words = set(words.words())\n",
    "    word_freq_dist = FreqDist(w.lower() for w in english_words)\n",
    "    return word_freq_dist"
   ]
  },
  {
   "cell_type": "code",
   "execution_count": 4,
   "id": "9d129ea5",
   "metadata": {},
   "outputs": [
    {
     "name": "stdout",
     "output_type": "stream",
     "text": [
      "Input Sentence: Thiss is a test sentens.\n",
      "Corrected Sentence: tetraiodophenolphthalein is a test pathologicopsychological pathologicopsychological\n"
     ]
    }
   ],
   "source": [
    "def correct_spelling(sentence, word_frequency_model):\n",
    "    # Tokenize the input sentence into words\n",
    "    tokenized_words = word_tokenize(sentence)\n",
    "\n",
    "    corrected_sentence = []\n",
    "\n",
    "    for word in tokenized_words:\n",
    "        # Check if the word is in the NLTK words corpus\n",
    "        if word.lower() not in word_frequency_model:\n",
    "            # If not, suggest a correction based on word frequency\n",
    "            correction = max(word_frequency_model, key=lambda x: nltk.edit_distance(word, x))\n",
    "            corrected_sentence.append(correction)\n",
    "        else:\n",
    "            corrected_sentence.append(word)\n",
    "\n",
    "    return ' '.join(corrected_sentence)\n",
    "\n",
    "if __name__ == \"__main__\":\n",
    "    # Example usage\n",
    "    input_sentence = \"Thiss is a test sentens.\"\n",
    "    \n",
    "    # Create the word frequency model\n",
    "    word_frequency_model = create_word_frequency_model()\n",
    "    \n",
    "    # Correct the spelling in the input sentence\n",
    "    corrected_sentence = correct_spelling(input_sentence, word_frequency_model)\n",
    "\n",
    "    print(\"Input Sentence:\", input_sentence)\n",
    "    print(\"Corrected Sentence:\", corrected_sentence)"
   ]
  },
  {
   "cell_type": "code",
   "execution_count": 6,
   "id": "eabfe5bb",
   "metadata": {},
   "outputs": [
    {
     "name": "stdout",
     "output_type": "stream",
     "text": [
      "['bathycurrent', 'phonetically', 'unheavily', 'watching', 'cruciformly', 'tuckahoe', 'weedingtime', 'bilbie', 'transferror', 'cressed']\n"
     ]
    },
    {
     "name": "stderr",
     "output_type": "stream",
     "text": [
      "[nltk_data] Downloading package words to\n",
      "[nltk_data]     C:\\Users\\ADMIN\\AppData\\Roaming\\nltk_data...\n",
      "[nltk_data]   Package words is already up-to-date!\n"
     ]
    }
   ],
   "source": [
    "import nltk\n",
    "\n",
    "# Download the words corpus\n",
    "nltk.download('words')\n",
    "\n",
    "# Get the list of valid English words\n",
    "english_words = set(nltk.corpus.words.words())\n",
    "\n",
    "# Print the first 10 words as an example\n",
    "print(list(english_words)[:10])\n"
   ]
  },
  {
   "cell_type": "code",
   "execution_count": 7,
   "id": "8311cb9a",
   "metadata": {},
   "outputs": [
    {
     "name": "stdout",
     "output_type": "stream",
     "text": [
      "['A', 'a', 'aa', 'aal', 'aalii', 'aam', 'Aani', 'aardvark', 'aardwolf', 'Aaron', 'Aaronic', 'Aaronical', 'Aaronite', 'Aaronitic', 'Aaru', 'Ab', 'aba', 'Ababdeh', 'Ababua', 'abac']\n"
     ]
    },
    {
     "name": "stderr",
     "output_type": "stream",
     "text": [
      "[nltk_data] Downloading package words to\n",
      "[nltk_data]     C:\\Users\\ADMIN\\AppData\\Roaming\\nltk_data...\n",
      "[nltk_data]   Package words is already up-to-date!\n"
     ]
    }
   ],
   "source": [
    "import nltk\n",
    "\n",
    "# Download the words corpus\n",
    "nltk.download('words')\n",
    "\n",
    "# Get the list of valid English words\n",
    "english_words = nltk.corpus.words.words()\n",
    "\n",
    "# Print the first 20 words\n",
    "print(english_words[:20])\n"
   ]
  },
  {
   "cell_type": "code",
   "execution_count": 9,
   "id": "3e2a8424",
   "metadata": {},
   "outputs": [
    {
     "name": "stdout",
     "output_type": "stream",
     "text": [
      "['bathycurrent', 'phonetically', 'unheavily', 'watching', 'cruciformly', 'tuckahoe', 'weedingtime', 'bilbie', 'transferror', 'cressed', 'wark', 'macrophoma', 'underslope', 'kiwai', 'alshain', 'illaudation', 'traitorize', 'fanner', 'peastake', 'reawaken']\n"
     ]
    },
    {
     "name": "stderr",
     "output_type": "stream",
     "text": [
      "[nltk_data] Downloading package words to\n",
      "[nltk_data]     C:\\Users\\ADMIN\\AppData\\Roaming\\nltk_data...\n",
      "[nltk_data]   Package words is already up-to-date!\n"
     ]
    }
   ],
   "source": [
    "import nltk\n",
    "\n",
    "# Download the words corpus\n",
    "nltk.download('words')\n",
    "\n",
    "# Get the list of valid English words and normalize casing\n",
    "english_words_lower = [word.lower() for word in nltk.corpus.words.words()]\n",
    "\n",
    "# Convert the list to a set to remove duplicates\n",
    "unique_english_words_lower = set(english_words_lower)\n",
    "\n",
    "# Print the first 20 words in the unique set\n",
    "print(list(unique_english_words_lower)[:20])"
   ]
  },
  {
   "cell_type": "code",
   "execution_count": 10,
   "id": "a45e6d4f",
   "metadata": {},
   "outputs": [
    {
     "name": "stdout",
     "output_type": "stream",
     "text": [
      "['until', 'hasn', '~', \"aren't\", \"you'd\", '/', 'than', 'will', 'while', \"you've\", 'only', '$', 'through', 'into', 'other', 'any', 're', 's', \"should've\", 'wouldn']\n"
     ]
    },
    {
     "name": "stderr",
     "output_type": "stream",
     "text": [
      "[nltk_data] Downloading package stopwords to\n",
      "[nltk_data]     C:\\Users\\ADMIN\\AppData\\Roaming\\nltk_data...\n",
      "[nltk_data]   Package stopwords is already up-to-date!\n"
     ]
    }
   ],
   "source": [
    "import nltk\n",
    "from string import punctuation\n",
    "\n",
    "# Download NLTK stop words\n",
    "nltk.download('stopwords')\n",
    "\n",
    "# Get NLTK stop words\n",
    "nltk_stop_words = set(nltk.corpus.stopwords.words('english'))\n",
    "\n",
    "# Get all punctuations\n",
    "all_punctuations = set(punctuation)\n",
    "\n",
    "# Combine NLTK stop words and punctuations\n",
    "stop_words = nltk_stop_words.union(all_punctuations)\n",
    "\n",
    "# Print the first 20 stop words in the combined list\n",
    "print(list(stop_words)[:20])\n"
   ]
  },
  {
   "cell_type": "code",
   "execution_count": 11,
   "id": "3a4e6839",
   "metadata": {},
   "outputs": [
    {
     "name": "stderr",
     "output_type": "stream",
     "text": [
      "[nltk_data] Downloading package words to\n",
      "[nltk_data]     C:\\Users\\ADMIN\\AppData\\Roaming\\nltk_data...\n",
      "[nltk_data]   Package words is already up-to-date!\n"
     ]
    },
    {
     "name": "stdout",
     "output_type": "stream",
     "text": [
      "The correct word for 'committee' is: admittee\n"
     ]
    }
   ],
   "source": [
    "import nltk\n",
    "\n",
    "# Download the words corpus\n",
    "nltk.download('words')\n",
    "\n",
    "def get_correct_word(term):\n",
    "    # Get the list of valid English words and normalize casing\n",
    "    english_words_lower = [word.lower() for word in nltk.corpus.words.words()[:20000]]\n",
    "\n",
    "    # Calculate edit distance with each term and store in a dictionary\n",
    "    edit_distance_dict = {word: nltk.edit_distance(term, word) for word in english_words_lower}\n",
    "\n",
    "    # Sort the dictionary in ascending order of edit distance values\n",
    "    sorted_edit_distance = sorted(edit_distance_dict.items(), key=lambda x: x[1])\n",
    "\n",
    "    # Return the first entry in the sorted result (value with minimum edit distance)\n",
    "    return sorted_edit_distance[0][0]\n",
    "\n",
    "if __name__ == \"__main__\":\n",
    "    # Example usage\n",
    "    term_to_correct = \"committee\"\n",
    "    \n",
    "    # Get the correct word for the given term\n",
    "    corrected_word = get_correct_word(term_to_correct)\n",
    "\n",
    "    print(f\"The correct word for '{term_to_correct}' is: {corrected_word}\")\n"
   ]
  },
  {
   "cell_type": "code",
   "execution_count": 12,
   "id": "f68dd0b0",
   "metadata": {},
   "outputs": [
    {
     "name": "stdout",
     "output_type": "stream",
     "text": [
      "The correct word for 'committee' is: committee\n"
     ]
    },
    {
     "name": "stderr",
     "output_type": "stream",
     "text": [
      "[nltk_data] Downloading package words to\n",
      "[nltk_data]     C:\\Users\\ADMIN\\AppData\\Roaming\\nltk_data...\n",
      "[nltk_data]   Package words is already up-to-date!\n"
     ]
    }
   ],
   "source": [
    "import nltk\n",
    "\n",
    "# Download the words corpus\n",
    "nltk.download('words')\n",
    "\n",
    "# Get the list of valid English words and normalize casing\n",
    "english_words_lower = {word.lower() for word in nltk.corpus.words.words()}\n",
    "\n",
    "def get_correct_word(term):\n",
    "    # Check if the term is in the set of valid English words\n",
    "    if term.lower() in english_words_lower:\n",
    "        return term.lower()\n",
    "\n",
    "    # Calculate edit distance with each term and store in a dictionary\n",
    "    edit_distance_dict = {word: nltk.edit_distance(term, word) for word in english_words_lower}\n",
    "\n",
    "    # Sort the dictionary in ascending order of edit distance values\n",
    "    sorted_edit_distance = sorted(edit_distance_dict.items(), key=lambda x: x[1])\n",
    "\n",
    "    # Return the first entry in the sorted result (value with minimum edit distance)\n",
    "    return sorted_edit_distance[0][0]\n",
    "\n",
    "if __name__ == \"__main__\":\n",
    "    # Example usage\n",
    "    term_to_correct = \"committee\"\n",
    "    \n",
    "    # Get the correct word for the given term\n",
    "    corrected_word = get_correct_word(term_to_correct)\n",
    "\n",
    "    print(f\"The correct word for '{term_to_correct}' is: {corrected_word}\")\n"
   ]
  },
  {
   "cell_type": "code",
   "execution_count": 16,
   "id": "2269be29",
   "metadata": {},
   "outputs": [
    {
     "name": "stderr",
     "output_type": "stream",
     "text": [
      "[nltk_data] Downloading package words to\n",
      "[nltk_data]     C:\\Users\\ADMIN\\AppData\\Roaming\\nltk_data...\n",
      "[nltk_data]   Package words is already up-to-date!\n"
     ]
    },
    {
     "name": "stdout",
     "output_type": "stream",
     "text": [
      "Input Sentence: is this a cat.\n",
      "Corrected Sentence: is this a cat h\n"
     ]
    }
   ],
   "source": [
    "import nltk\n",
    "\n",
    "# Download the words corpus\n",
    "nltk.download('words')\n",
    "\n",
    "def get_correct_word(term, valid_words_set):\n",
    "    # Check if the term is in the set of valid English words\n",
    "    if term.lower() in valid_words_set:\n",
    "        return term.lower()\n",
    "\n",
    "    # Calculate edit distance with each term and store in a dictionary\n",
    "    edit_distance_dict = {word: nltk.edit_distance(term, word) for word in valid_words_set}\n",
    "\n",
    "    # Sort the dictionary in ascending order of edit distance values\n",
    "    sorted_edit_distance = sorted(edit_distance_dict.items(), key=lambda x: x[1])\n",
    "\n",
    "    # Return the first entry in the sorted result (value with minimum edit distance)\n",
    "    return sorted_edit_distance[0][0]\n",
    "\n",
    "def correct_spelling_in_sentence(sentence, valid_words_set):\n",
    "    # Tokenize the input sentence into words and make them lowercase\n",
    "    tokenized_words = [word.lower() for word in nltk.word_tokenize(sentence)]\n",
    "\n",
    "    # Correct the spelling of each word in the tokenized sentence\n",
    "    corrected_words = [get_correct_word(word, valid_words_set) for word in tokenized_words]\n",
    "\n",
    "    # Return the joined string as output\n",
    "    return ' '.join(corrected_words)\n",
    "\n",
    "if __name__ == \"__main__\":\n",
    "    # Example usage\n",
    "    input_sentence = \"is this a cat.\"\n",
    "\n",
    "    # Create the set of valid English words\n",
    "    valid_words_set = set(word.lower() for word in nltk.corpus.words.words())\n",
    "\n",
    "    # Correct the spelling in the input sentence\n",
    "    corrected_sentence = correct_spelling_in_sentence(input_sentence, valid_words_set)\n",
    "\n",
    "    print(\"Input Sentence:\", input_sentence)\n",
    "    print(\"Corrected Sentence:\", corrected_sentence)\n"
   ]
  },
  {
   "cell_type": "code",
   "execution_count": 15,
   "id": "9bc5be77",
   "metadata": {},
   "outputs": [
    {
     "name": "stderr",
     "output_type": "stream",
     "text": [
      "[nltk_data] Downloading package words to\n",
      "[nltk_data]     C:\\Users\\ADMIN\\AppData\\Roaming\\nltk_data...\n",
      "[nltk_data]   Package words is already up-to-date!\n"
     ]
    },
    {
     "name": "stdout",
     "output_type": "stream",
     "text": [
      "Input Sentence: The new abacos is great\n",
      "Corrected Sentence: the new abacus is great\n"
     ]
    }
   ],
   "source": [
    "import nltk\n",
    "\n",
    "# Download the words corpus\n",
    "nltk.download('words')\n",
    "\n",
    "def get_correct_word(term, valid_words_set):\n",
    "    # Check if the term is in the set of valid English words\n",
    "    if term.lower() in valid_words_set:\n",
    "        return term.lower()\n",
    "\n",
    "    # Calculate edit distance with each term and store in a dictionary\n",
    "    edit_distance_dict = {word: nltk.edit_distance(term, word) for word in valid_words_set}\n",
    "\n",
    "    # Sort the dictionary in ascending order of edit distance values\n",
    "    sorted_edit_distance = sorted(edit_distance_dict.items(), key=lambda x: x[1])\n",
    "\n",
    "    # Return the first entry in the sorted result (value with minimum edit distance)\n",
    "    return sorted_edit_distance[0][0]\n",
    "\n",
    "def correct_spelling_in_sentence(sentence, valid_words_set):\n",
    "    # Tokenize the input sentence into words and make them lowercase\n",
    "    tokenized_words = [word.lower() for word in nltk.word_tokenize(sentence)]\n",
    "\n",
    "    # Correct the spelling of each word in the tokenized sentence\n",
    "    corrected_words = [get_correct_word(word, valid_words_set) for word in tokenized_words]\n",
    "\n",
    "    # Return the joined string as output\n",
    "    return ' '.join(corrected_words)\n",
    "\n",
    "if __name__ == \"__main__\":\n",
    "    # Example usage\n",
    "    input_sentence = \"The new abacos is great\"\n",
    "\n",
    "    # Create the set of valid English words\n",
    "    valid_words_set = set(word.lower() for word in nltk.corpus.words.words())\n",
    "\n",
    "    # Correct the spelling in the input sentence\n",
    "    corrected_sentence = correct_spelling_in_sentence(input_sentence, valid_words_set)\n",
    "\n",
    "    print(\"Input Sentence:\", input_sentence)\n",
    "    print(\"Corrected Sentence:\", corrected_sentence)\n"
   ]
  },
  {
   "cell_type": "code",
   "execution_count": null,
   "id": "84fcc5e0",
   "metadata": {},
   "outputs": [],
   "source": []
  },
  {
   "cell_type": "code",
   "execution_count": null,
   "id": "6b62f064",
   "metadata": {},
   "outputs": [],
   "source": []
  }
 ],
 "metadata": {
  "kernelspec": {
   "display_name": "Python 3 (ipykernel)",
   "language": "python",
   "name": "python3"
  },
  "language_info": {
   "codemirror_mode": {
    "name": "ipython",
    "version": 3
   },
   "file_extension": ".py",
   "mimetype": "text/x-python",
   "name": "python",
   "nbconvert_exporter": "python",
   "pygments_lexer": "ipython3",
   "version": "3.11.4"
  }
 },
 "nbformat": 4,
 "nbformat_minor": 5
}
