{
 "cells": [
  {
   "cell_type": "code",
   "execution_count": 1,
   "id": "aa547747",
   "metadata": {},
   "outputs": [],
   "source": [
    "import warnings\n",
    "warnings.filterwarnings('ignore')\n",
    "\n",
    "from nltk.tokenize import sent_tokenize,word_tokenize\n",
    "import gensim\n",
    "\n",
    "from gensim.models import Word2Vec"
   ]
  },
  {
   "cell_type": "code",
   "execution_count": 2,
   "id": "5a340d23",
   "metadata": {},
   "outputs": [],
   "source": [
    "text = open('word_analogy.txt','r')\n",
    "s = text.read()"
   ]
  },
  {
   "cell_type": "code",
   "execution_count": 3,
   "id": "4682fb6b",
   "metadata": {},
   "outputs": [],
   "source": [
    "f = s.replace('\\n',\" \")"
   ]
  },
  {
   "cell_type": "code",
   "execution_count": 4,
   "id": "fba8db4c",
   "metadata": {},
   "outputs": [],
   "source": [
    "data = []"
   ]
  },
  {
   "cell_type": "code",
   "execution_count": 5,
   "id": "ed31073c",
   "metadata": {},
   "outputs": [],
   "source": [
    "#Iterate through each sentence in the file\n",
    "\n",
    "for i in sent_tokenize(f):\n",
    "    temp = []\n",
    "    \n",
    "    #tokenize the sentence into words\n",
    "    for j in word_tokenize(i):\n",
    "        temp.append(j.lower())\n",
    "        \n",
    "    data.append(temp)"
   ]
  },
  {
   "cell_type": "code",
   "execution_count": 6,
   "id": "4b6cdbbd",
   "metadata": {},
   "outputs": [
    {
     "data": {
      "text/plain": [
       "1093"
      ]
     },
     "execution_count": 6,
     "metadata": {},
     "output_type": "execute_result"
    }
   ],
   "source": [
    "len(data)"
   ]
  },
  {
   "cell_type": "code",
   "execution_count": 7,
   "id": "e469eb8c",
   "metadata": {},
   "outputs": [],
   "source": [
    "model_1 = gensim.models.Word2Vec(data,min_count = 1,vector_size=100,window=5)"
   ]
  },
  {
   "cell_type": "code",
   "execution_count": 8,
   "id": "fa1cc69e",
   "metadata": {},
   "outputs": [
    {
     "name": "stdout",
     "output_type": "stream",
     "text": [
      "Cosine similarity b/w \"Alice\" and 'Wonderland' - CBOW: 0.96147203\n"
     ]
    }
   ],
   "source": [
    "print('Cosine similarity b/w \"Alice\" '+ \"and 'Wonderland' - CBOW:\", model_1.wv.similarity('alice','wonderland'))"
   ]
  },
  {
   "cell_type": "code",
   "execution_count": 9,
   "id": "bec38910",
   "metadata": {},
   "outputs": [
    {
     "data": {
      "text/plain": [
       "0.94117063"
      ]
     },
     "execution_count": 9,
     "metadata": {},
     "output_type": "execute_result"
    }
   ],
   "source": [
    "model_1.wv.similarity('alice','machines')"
   ]
  },
  {
   "cell_type": "code",
   "execution_count": 10,
   "id": "b84a388f",
   "metadata": {},
   "outputs": [
    {
     "data": {
      "text/plain": [
       "[('each', 0.995730459690094),\n",
       " ('away', 0.9955036044120789),\n",
       " ('!', 0.9954617023468018),\n",
       " ('at', 0.9954574108123779),\n",
       " (':', 0.9954299330711365),\n",
       " ('my', 0.995404839515686),\n",
       " ('our', 0.9953995943069458),\n",
       " ('.', 0.9953990578651428),\n",
       " ('quite', 0.9953786134719849),\n",
       " ('than', 0.9953716397285461)]"
      ]
     },
     "execution_count": 10,
     "metadata": {},
     "output_type": "execute_result"
    }
   ],
   "source": [
    "model_1.wv.similar_by_word('play')"
   ]
  },
  {
   "cell_type": "code",
   "execution_count": 11,
   "id": "97985be8",
   "metadata": {},
   "outputs": [],
   "source": [
    "model_2 = gensim.models.Word2Vec(data,min_count=1,vector_size=100,window=5,sg=1)"
   ]
  },
  {
   "cell_type": "code",
   "execution_count": 12,
   "id": "45cd09eb",
   "metadata": {},
   "outputs": [
    {
     "name": "stdout",
     "output_type": "stream",
     "text": [
      "Cosine similarity b/w \"Alice\" and 'Wonderland' - CBOW: 0.55227244\n"
     ]
    }
   ],
   "source": [
    "print('Cosine similarity b/w \"Alice\" ' + \"and 'Wonderland' - CBOW:\", model_2.wv.similarity('alice','wonderland'))"
   ]
  },
  {
   "cell_type": "code",
   "execution_count": 13,
   "id": "19fa7176",
   "metadata": {},
   "outputs": [
    {
     "name": "stdout",
     "output_type": "stream",
     "text": [
      "Cosine similarity b/w \"Alice\" and 'Wonderland' - CBOW 0.5995707\n"
     ]
    }
   ],
   "source": [
    "model_3 = gensim.models.Word2Vec(data,min_count=1,vector_size=100,window = 5,sg=2)\n",
    "print('Cosine similarity b/w \"Alice\" '+ \"and 'Wonderland' - CBOW\",model_3.wv.similarity('alice','wonderland'))"
   ]
  },
  {
   "cell_type": "code",
   "execution_count": null,
   "id": "85edb90a",
   "metadata": {},
   "outputs": [],
   "source": []
  }
 ],
 "metadata": {
  "kernelspec": {
   "display_name": "Python 3 (ipykernel)",
   "language": "python",
   "name": "python3"
  },
  "language_info": {
   "codemirror_mode": {
    "name": "ipython",
    "version": 3
   },
   "file_extension": ".py",
   "mimetype": "text/x-python",
   "name": "python",
   "nbconvert_exporter": "python",
   "pygments_lexer": "ipython3",
   "version": "3.11.4"
  }
 },
 "nbformat": 4,
 "nbformat_minor": 5
}
